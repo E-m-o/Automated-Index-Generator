{
 "cells": [
  {
   "cell_type": "code",
   "execution_count": 1,
   "id": "1a0667e8",
   "metadata": {},
   "outputs": [],
   "source": [
    "import os\n",
    "import pandas as pd\n",
    "from datetime import datetime, timedelta\n",
    "from landsatxplore.api import API\n",
    "from crawlers.csv_reader import csv_crawler\n",
    "from crawlers.web_crawler_earthexplorer import get_dates"
   ]
  },
  {
   "cell_type": "code",
   "execution_count": 2,
   "id": "717376cc",
   "metadata": {},
   "outputs": [],
   "source": [
    "global data\n",
    "global data_grouped"
   ]
  },
  {
   "cell_type": "code",
   "execution_count": 3,
   "id": "d6c0301b",
   "metadata": {},
   "outputs": [],
   "source": [
    "def scene_finder(api=None, sat_choice=None, date=None, coordinates=None):\n",
    "    scenes = None\n",
    "    landsat_collection = \"landsat_8_c1\"\n",
    "    sentinel_collection = \"sentinel_2a\"\n",
    "\n",
    "    [xmin, ymin, xmax, ymax] = coordinates\n",
    "    # print(xmin, ymin, xmax, ymax)\n",
    "    if sat_choice == \"1\":\n",
    "        scenes = api.search(\n",
    "            dataset=landsat_collection,\n",
    "            bbox=(xmin,\n",
    "                  ymin,\n",
    "                  xmax,\n",
    "                  ymax),\n",
    "            start_date=date[0],\n",
    "            end_date=date[1],\n",
    "        )\n",
    "    elif sat_choice == \"2\":\n",
    "        scenes = api.search(\n",
    "            dataset=sentinel_collection,\n",
    "            bbox=(xmin,\n",
    "                  ymin,\n",
    "                  xmax,\n",
    "                  ymax),\n",
    "            start_date=date[0],\n",
    "            end_date=date[1],\n",
    "        )\n",
    "\n",
    "    print(f\"{len(scenes)} scenes found.\")\n",
    "    return scenes"
   ]
  },
  {
   "cell_type": "code",
   "execution_count": 34,
   "id": "45098b0c",
   "metadata": {},
   "outputs": [],
   "source": [
    "def scene_downloader(scene_list=None):\n",
    "    for scene in scene_list:\n",
    "        print(scene)\n",
    "        os.system(\n",
    "            f\"landsatxplore download {scene} --output /home/chiko/Storage/Projects/Raster_Image_Calculator/Images/Request.5/Start_date --username {username} --password {password}\")"
   ]
  },
  {
   "cell_type": "code",
   "execution_count": 23,
   "id": "f1a105bf",
   "metadata": {},
   "outputs": [],
   "source": [
    "def download_selector(scenes=None, test=False):\n",
    "    data = pd.DataFrame()\n",
    "    columns = ['entity_id', 'wrs_path', 'wrs_row', 'cloud_cover', 'start_time']\n",
    "    for scene in scenes:\n",
    "        temp = {column: scene[column] for column in columns}\n",
    "        data = data.append(temp, ignore_index=True)\n",
    "#         print(temp)\n",
    "    data_grouped = data.groupby(['wrs_path', 'wrs_row'])\n",
    "    down_list = []\n",
    "    for group in data_grouped.groups:\n",
    "        grp = data_grouped.get_group(group)\n",
    "        grp.sort_values(['cloud_cover'], inplace=True)\n",
    "        print(grp.loc[grp.index[0], ['wrs_path', 'wrs_row']])\n",
    "        print(grp)\n",
    "        print(f\"min = {grp.iloc[0]['cloud_cover']}\")\n",
    "        print(f\"max = {grp.iloc[-1]['cloud_cover']}\")\n",
    "        print(\"==========================================================================================\")\n",
    "        down_list.append(grp.iloc[0]['entity_id'])\n",
    "    \n",
    "    if test:\n",
    "        return down_list, data\n",
    "    return down_list"
   ]
  },
  {
   "cell_type": "code",
   "execution_count": 6,
   "id": "ae3cfdc3",
   "metadata": {},
   "outputs": [],
   "source": [
    "username = \"vineet\"\n",
    "password = \"EROS#3mobiscuit\"\n",
    "\n",
    "sat_choice = input(\"Choose satellite:\\n1. Landsat\\n2.Sentinel\\n\")"
   ]
  },
  {
   "cell_type": "code",
   "execution_count": 35,
   "id": "f62347bf",
   "metadata": {},
   "outputs": [
    {
     "output_type": "stream",
     "name": "stdout",
     "text": [
      "13 scenes found.\n",
      "wrs_path    143.0\n",
      "wrs_row      44.0\n",
      "Name: 3, dtype: object\n",
      "    cloud_cover              entity_id                 start_time  wrs_path  \\\n",
      "3          0.00  LC81430442021054LGN00 2021-02-23 05:01:40.153123     143.0   \n",
      "6          0.00  LC81430442021038LGN00 2021-02-07 05:01:45.033803     143.0   \n",
      "8          0.00  LC81430442021022LGN00 2021-01-22 05:01:46.878754     143.0   \n",
      "0         21.00  LC81430442021070LGN00 2021-03-11 05:01:31.935023     143.0   \n",
      "11        78.07  LC81430442021006LGN00 2021-01-06 05:01:53.102718     143.0   \n",
      "\n",
      "    wrs_row  \n",
      "3      44.0  \n",
      "6      44.0  \n",
      "8      44.0  \n",
      "0      44.0  \n",
      "11     44.0  \n",
      "min = 0.0\n",
      "max = 78.07\n",
      "==========================================================================================\n",
      "wrs_path    143.0\n",
      "wrs_row      45.0\n",
      "Name: 4, dtype: object\n",
      "    cloud_cover              entity_id                 start_time  wrs_path  \\\n",
      "4          0.00  LC81430452021054LGN00 2021-02-23 05:02:04.044162     143.0   \n",
      "7          0.00  LC81430452021038LGN00 2021-02-07 05:02:08.933314     143.0   \n",
      "9          0.00  LC81430452021022LGN00 2021-01-22 05:02:10.782501     143.0   \n",
      "1         33.33  LC81430452021070LGN00 2021-03-11 05:01:55.826062     143.0   \n",
      "12        44.35  LC81430452021006LGN00 2021-01-06 05:02:16.997993     143.0   \n",
      "\n",
      "    wrs_row  \n",
      "4      45.0  \n",
      "7      45.0  \n",
      "9      45.0  \n",
      "1      45.0  \n",
      "12     45.0  \n",
      "min = 0.0\n",
      "max = 44.35\n",
      "==========================================================================================\n",
      "wrs_path    144.0\n",
      "wrs_row      44.0\n",
      "Name: 2, dtype: object\n",
      "    cloud_cover              entity_id                 start_time  wrs_path  \\\n",
      "2          0.00  LC81440442021061LGN00 2021-03-02 05:07:47.793362     144.0   \n",
      "5          0.39  LC81440442021045LGN00 2021-02-14 05:07:54.101590     144.0   \n",
      "10         0.69  LC81440442021013LGN00 2021-01-13 05:08:00.666494     144.0   \n",
      "\n",
      "    wrs_row  \n",
      "2      44.0  \n",
      "5      44.0  \n",
      "10     44.0  \n",
      "min = 0.0\n",
      "max = 0.69\n",
      "==========================================================================================\n",
      "LC81430442021054LGN00\n",
      "LC81430452021054LGN00\n",
      "LC81440442021061LGN00\n",
      "<ipython-input-23-6043dbc4641c>:12: SettingWithCopyWarning: \n",
      "A value is trying to be set on a copy of a slice from a DataFrame\n",
      "\n",
      "See the caveats in the documentation: https://pandas.pydata.org/pandas-docs/stable/user_guide/indexing.html#returning-a-view-versus-a-copy\n",
      "  grp.sort_values(['cloud_cover'], inplace=True)\n",
      "<ipython-input-23-6043dbc4641c>:12: SettingWithCopyWarning: \n",
      "A value is trying to be set on a copy of a slice from a DataFrame\n",
      "\n",
      "See the caveats in the documentation: https://pandas.pydata.org/pandas-docs/stable/user_guide/indexing.html#returning-a-view-versus-a-copy\n",
      "  grp.sort_values(['cloud_cover'], inplace=True)\n",
      "<ipython-input-23-6043dbc4641c>:12: SettingWithCopyWarning: \n",
      "A value is trying to be set on a copy of a slice from a DataFrame\n",
      "\n",
      "See the caveats in the documentation: https://pandas.pydata.org/pandas-docs/stable/user_guide/indexing.html#returning-a-view-versus-a-copy\n",
      "  grp.sort_values(['cloud_cover'], inplace=True)\n"
     ]
    }
   ],
   "source": [
    "# def downloader():\n",
    "api = API(username, password)\n",
    "choice = \"1\"\n",
    "\n",
    "date_list = get_dates(sat_choice=choice, test=True)\n",
    "\n",
    "co_ord = csv_crawler(block=\"Mandla\", clipper=True)\n",
    "# print(co_ord)\n",
    "for (id, date) in enumerate(date_list):\n",
    "    scenes = scene_finder(api, sat_choice, date, coordinates=co_ord)\n",
    "    scene_list, scene_data = download_selector(scenes, test=True)\n",
    "    scene_downloader(scene_list)\n",
    "api.logout()"
   ]
  },
  {
   "cell_type": "code",
   "execution_count": 32,
   "metadata": {},
   "outputs": [
    {
     "output_type": "execute_result",
     "data": {
      "text/plain": [
       "['LC81430442021054LGN00', 'LC81430452021054LGN00', 'LC81440442021061LGN00']"
      ]
     },
     "metadata": {},
     "execution_count": 32
    }
   ],
   "source": [
    "scene_list"
   ]
  },
  {
   "cell_type": "code",
   "execution_count": 40,
   "id": "f3682e45",
   "metadata": {},
   "outputs": [
    {
     "output_type": "execute_result",
     "data": {
      "text/plain": [
       "    cloud_cover              entity_id                 start_time  wrs_path  \\\n",
       "0         21.00  LC81430442021070LGN00 2021-03-11 05:01:31.935023     143.0   \n",
       "1         33.33  LC81430452021070LGN00 2021-03-11 05:01:55.826062     143.0   \n",
       "2          0.00  LC81440442021061LGN00 2021-03-02 05:07:47.793362     144.0   \n",
       "3          0.00  LC81430442021054LGN00 2021-02-23 05:01:40.153123     143.0   \n",
       "4          0.00  LC81430452021054LGN00 2021-02-23 05:02:04.044162     143.0   \n",
       "5          0.39  LC81440442021045LGN00 2021-02-14 05:07:54.101590     144.0   \n",
       "6          0.00  LC81430442021038LGN00 2021-02-07 05:01:45.033803     143.0   \n",
       "7          0.00  LC81430452021038LGN00 2021-02-07 05:02:08.933314     143.0   \n",
       "8          0.00  LC81430442021022LGN00 2021-01-22 05:01:46.878754     143.0   \n",
       "9          0.00  LC81430452021022LGN00 2021-01-22 05:02:10.782501     143.0   \n",
       "10         0.69  LC81440442021013LGN00 2021-01-13 05:08:00.666494     144.0   \n",
       "11        78.07  LC81430442021006LGN00 2021-01-06 05:01:53.102718     143.0   \n",
       "12        44.35  LC81430452021006LGN00 2021-01-06 05:02:16.997993     143.0   \n",
       "\n",
       "    wrs_row  \n",
       "0      44.0  \n",
       "1      45.0  \n",
       "2      44.0  \n",
       "3      44.0  \n",
       "4      45.0  \n",
       "5      44.0  \n",
       "6      44.0  \n",
       "7      45.0  \n",
       "8      44.0  \n",
       "9      45.0  \n",
       "10     44.0  \n",
       "11     44.0  \n",
       "12     45.0  "
      ],
      "text/html": "<div>\n<style scoped>\n    .dataframe tbody tr th:only-of-type {\n        vertical-align: middle;\n    }\n\n    .dataframe tbody tr th {\n        vertical-align: top;\n    }\n\n    .dataframe thead th {\n        text-align: right;\n    }\n</style>\n<table border=\"1\" class=\"dataframe\">\n  <thead>\n    <tr style=\"text-align: right;\">\n      <th></th>\n      <th>cloud_cover</th>\n      <th>entity_id</th>\n      <th>start_time</th>\n      <th>wrs_path</th>\n      <th>wrs_row</th>\n    </tr>\n  </thead>\n  <tbody>\n    <tr>\n      <th>0</th>\n      <td>21.00</td>\n      <td>LC81430442021070LGN00</td>\n      <td>2021-03-11 05:01:31.935023</td>\n      <td>143.0</td>\n      <td>44.0</td>\n    </tr>\n    <tr>\n      <th>1</th>\n      <td>33.33</td>\n      <td>LC81430452021070LGN00</td>\n      <td>2021-03-11 05:01:55.826062</td>\n      <td>143.0</td>\n      <td>45.0</td>\n    </tr>\n    <tr>\n      <th>2</th>\n      <td>0.00</td>\n      <td>LC81440442021061LGN00</td>\n      <td>2021-03-02 05:07:47.793362</td>\n      <td>144.0</td>\n      <td>44.0</td>\n    </tr>\n    <tr>\n      <th>3</th>\n      <td>0.00</td>\n      <td>LC81430442021054LGN00</td>\n      <td>2021-02-23 05:01:40.153123</td>\n      <td>143.0</td>\n      <td>44.0</td>\n    </tr>\n    <tr>\n      <th>4</th>\n      <td>0.00</td>\n      <td>LC81430452021054LGN00</td>\n      <td>2021-02-23 05:02:04.044162</td>\n      <td>143.0</td>\n      <td>45.0</td>\n    </tr>\n    <tr>\n      <th>5</th>\n      <td>0.39</td>\n      <td>LC81440442021045LGN00</td>\n      <td>2021-02-14 05:07:54.101590</td>\n      <td>144.0</td>\n      <td>44.0</td>\n    </tr>\n    <tr>\n      <th>6</th>\n      <td>0.00</td>\n      <td>LC81430442021038LGN00</td>\n      <td>2021-02-07 05:01:45.033803</td>\n      <td>143.0</td>\n      <td>44.0</td>\n    </tr>\n    <tr>\n      <th>7</th>\n      <td>0.00</td>\n      <td>LC81430452021038LGN00</td>\n      <td>2021-02-07 05:02:08.933314</td>\n      <td>143.0</td>\n      <td>45.0</td>\n    </tr>\n    <tr>\n      <th>8</th>\n      <td>0.00</td>\n      <td>LC81430442021022LGN00</td>\n      <td>2021-01-22 05:01:46.878754</td>\n      <td>143.0</td>\n      <td>44.0</td>\n    </tr>\n    <tr>\n      <th>9</th>\n      <td>0.00</td>\n      <td>LC81430452021022LGN00</td>\n      <td>2021-01-22 05:02:10.782501</td>\n      <td>143.0</td>\n      <td>45.0</td>\n    </tr>\n    <tr>\n      <th>10</th>\n      <td>0.69</td>\n      <td>LC81440442021013LGN00</td>\n      <td>2021-01-13 05:08:00.666494</td>\n      <td>144.0</td>\n      <td>44.0</td>\n    </tr>\n    <tr>\n      <th>11</th>\n      <td>78.07</td>\n      <td>LC81430442021006LGN00</td>\n      <td>2021-01-06 05:01:53.102718</td>\n      <td>143.0</td>\n      <td>44.0</td>\n    </tr>\n    <tr>\n      <th>12</th>\n      <td>44.35</td>\n      <td>LC81430452021006LGN00</td>\n      <td>2021-01-06 05:02:16.997993</td>\n      <td>143.0</td>\n      <td>45.0</td>\n    </tr>\n  </tbody>\n</table>\n</div>"
     },
     "metadata": {},
     "execution_count": 40
    }
   ],
   "source": [
    "scene_data"
   ]
  },
  {
   "cell_type": "code",
   "execution_count": 27,
   "id": "449785c8",
   "metadata": {},
   "outputs": [
    {
     "output_type": "execute_result",
     "data": {
      "text/plain": [
       "{(143.0, 44.0): [0, 3, 6, 8, 11], (143.0, 45.0): [1, 4, 7, 9, 12], (144.0, 44.0): [2, 5, 10]}"
      ]
     },
     "metadata": {},
     "execution_count": 27
    }
   ],
   "source": [
    "data_grouped = scene_data.groupby(['wrs_path', 'wrs_row'])\n",
    "# data_grouped.groups"
   ]
  },
  {
   "cell_type": "code",
   "execution_count": 39,
   "id": "baa0990b",
   "metadata": {},
   "outputs": [
    {
     "output_type": "stream",
     "name": "stdout",
     "text": [
      "wrs_path    143.0\n",
      "wrs_row      44.0\n",
      "Name: 3, dtype: object\n",
      "    cloud_cover              entity_id                 start_time  wrs_path  \\\n",
      "3          0.00  LC81430442021054LGN00 2021-02-23 05:01:40.153123     143.0   \n",
      "6          0.00  LC81430442021038LGN00 2021-02-07 05:01:45.033803     143.0   \n",
      "8          0.00  LC81430442021022LGN00 2021-01-22 05:01:46.878754     143.0   \n",
      "0         21.00  LC81430442021070LGN00 2021-03-11 05:01:31.935023     143.0   \n",
      "11        78.07  LC81430442021006LGN00 2021-01-06 05:01:53.102718     143.0   \n",
      "\n",
      "    wrs_row  \n",
      "3      44.0  \n",
      "6      44.0  \n",
      "8      44.0  \n",
      "0      44.0  \n",
      "11     44.0  \n",
      "min = 0.0\n",
      "max = 78.07\n",
      "==========================================================================================\n",
      "<ipython-input-39-7f6b3904f54c>:7: SettingWithCopyWarning: \n",
      "A value is trying to be set on a copy of a slice from a DataFrame\n",
      "\n",
      "See the caveats in the documentation: https://pandas.pydata.org/pandas-docs/stable/user_guide/indexing.html#returning-a-view-versus-a-copy\n",
      "  grp.sort_values(['cloud_cover'], inplace=True)\n"
     ]
    }
   ],
   "source": [
    "count = 0\n",
    "for group in data_grouped.groups:\n",
    "    if count == 1:\n",
    "        break\n",
    "    count += 1\n",
    "    grp = data_grouped.get_group(group)\n",
    "    grp.sort_values(['cloud_cover'], inplace=True)\n",
    "    print(grp.loc[grp.index[0], ['wrs_path', 'wrs_row']])\n",
    "    print(grp)\n",
    "    print(f\"min = {grp.iloc[0]['cloud_cover']}\")\n",
    "    print(f\"max = {grp.iloc[-1]['cloud_cover']}\")\n",
    "    print(\"==========================================================================================\")"
   ]
  },
  {
   "cell_type": "code",
   "execution_count": null,
   "metadata": {},
   "outputs": [],
   "source": []
  }
 ],
 "metadata": {
  "kernelspec": {
   "name": "python380jvsc74a57bd0b60bbd7b999045be733cd834ee0b96c06b154a7ce252e5e3b239f5005c0f3eb9",
   "display_name": "Python 3.8.0 64-bit ('geo': conda)"
  },
  "language_info": {
   "codemirror_mode": {
    "name": "ipython",
    "version": 3
   },
   "file_extension": ".py",
   "mimetype": "text/x-python",
   "name": "python",
   "nbconvert_exporter": "python",
   "pygments_lexer": "ipython3",
   "version": "3.8.0"
  }
 },
 "nbformat": 4,
 "nbformat_minor": 5
}